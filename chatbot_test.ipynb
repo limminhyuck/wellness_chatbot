{
 "cells": [
  {
   "cell_type": "code",
   "execution_count": 2,
   "id": "ad440bd9",
   "metadata": {},
   "outputs": [
    {
     "name": "stdout",
     "output_type": "stream",
     "text": [
      "Collecting sentence-transformers\n",
      "  Downloading sentence-transformers-2.2.2.tar.gz (85 kB)\n",
      "     -------------------------------------- 86.0/86.0 kB 970.7 kB/s eta 0:00:00\n",
      "  Preparing metadata (setup.py): started\n",
      "  Preparing metadata (setup.py): finished with status 'done'\n",
      "Requirement already satisfied: transformers<5.0.0,>=4.6.0 in c:\\users\\msi\\anaconda3\\lib\\site-packages (from sentence-transformers) (4.24.0)\n",
      "Requirement already satisfied: tqdm in c:\\users\\msi\\anaconda3\\lib\\site-packages (from sentence-transformers) (4.64.1)\n",
      "Requirement already satisfied: torch>=1.6.0 in c:\\users\\msi\\anaconda3\\lib\\site-packages (from sentence-transformers) (1.12.1)\n",
      "Collecting torchvision\n",
      "  Downloading torchvision-0.15.2-cp39-cp39-win_amd64.whl (1.2 MB)\n",
      "     ---------------------------------------- 1.2/1.2 MB 5.8 MB/s eta 0:00:00\n",
      "Requirement already satisfied: numpy in c:\\users\\msi\\anaconda3\\lib\\site-packages (from sentence-transformers) (1.25.0)\n",
      "Requirement already satisfied: scikit-learn in c:\\users\\msi\\anaconda3\\lib\\site-packages (from sentence-transformers) (1.2.1)\n",
      "Requirement already satisfied: scipy in c:\\users\\msi\\anaconda3\\lib\\site-packages (from sentence-transformers) (1.10.0)\n",
      "Requirement already satisfied: nltk in c:\\users\\msi\\anaconda3\\lib\\site-packages (from sentence-transformers) (3.7)\n",
      "Collecting sentencepiece\n",
      "  Downloading sentencepiece-0.1.99-cp39-cp39-win_amd64.whl (977 kB)\n",
      "     -------------------------------------- 977.6/977.6 kB 3.9 MB/s eta 0:00:00\n",
      "Requirement already satisfied: huggingface-hub>=0.4.0 in c:\\users\\msi\\anaconda3\\lib\\site-packages (from sentence-transformers) (0.15.1)\n",
      "Requirement already satisfied: packaging>=20.9 in c:\\users\\msi\\anaconda3\\lib\\site-packages (from huggingface-hub>=0.4.0->sentence-transformers) (22.0)\n",
      "Requirement already satisfied: fsspec in c:\\users\\msi\\anaconda3\\lib\\site-packages (from huggingface-hub>=0.4.0->sentence-transformers) (2022.11.0)\n",
      "Requirement already satisfied: typing-extensions>=3.7.4.3 in c:\\users\\msi\\anaconda3\\lib\\site-packages (from huggingface-hub>=0.4.0->sentence-transformers) (4.4.0)\n",
      "Requirement already satisfied: filelock in c:\\users\\msi\\anaconda3\\lib\\site-packages (from huggingface-hub>=0.4.0->sentence-transformers) (3.9.0)\n",
      "Requirement already satisfied: pyyaml>=5.1 in c:\\users\\msi\\anaconda3\\lib\\site-packages (from huggingface-hub>=0.4.0->sentence-transformers) (6.0)\n",
      "Requirement already satisfied: requests in c:\\users\\msi\\anaconda3\\lib\\site-packages (from huggingface-hub>=0.4.0->sentence-transformers) (2.28.1)\n",
      "Requirement already satisfied: colorama in c:\\users\\msi\\anaconda3\\lib\\site-packages (from tqdm->sentence-transformers) (0.4.6)\n",
      "Requirement already satisfied: tokenizers!=0.11.3,<0.14,>=0.11.1 in c:\\users\\msi\\anaconda3\\lib\\site-packages (from transformers<5.0.0,>=4.6.0->sentence-transformers) (0.11.4)\n",
      "Requirement already satisfied: regex!=2019.12.17 in c:\\users\\msi\\anaconda3\\lib\\site-packages (from transformers<5.0.0,>=4.6.0->sentence-transformers) (2022.7.9)\n",
      "Requirement already satisfied: joblib in c:\\users\\msi\\anaconda3\\lib\\site-packages (from nltk->sentence-transformers) (1.1.1)\n",
      "Requirement already satisfied: click in c:\\users\\msi\\anaconda3\\lib\\site-packages (from nltk->sentence-transformers) (8.0.4)\n",
      "Requirement already satisfied: threadpoolctl>=2.0.0 in c:\\users\\msi\\anaconda3\\lib\\site-packages (from scikit-learn->sentence-transformers) (2.2.0)\n",
      "Collecting torch>=1.6.0\n",
      "  Downloading torch-2.0.1-cp39-cp39-win_amd64.whl (172.4 MB)\n",
      "     -------------------------------------- 172.4/172.4 MB 1.3 MB/s eta 0:00:00\n",
      "Requirement already satisfied: pillow!=8.3.*,>=5.3.0 in c:\\users\\msi\\anaconda3\\lib\\site-packages (from torchvision->sentence-transformers) (9.4.0)\n",
      "Requirement already satisfied: sympy in c:\\users\\msi\\anaconda3\\lib\\site-packages (from torch>=1.6.0->sentence-transformers) (1.11.1)\n",
      "Requirement already satisfied: networkx in c:\\users\\msi\\anaconda3\\lib\\site-packages (from torch>=1.6.0->sentence-transformers) (2.8.4)\n",
      "Requirement already satisfied: jinja2 in c:\\users\\msi\\anaconda3\\lib\\site-packages (from torch>=1.6.0->sentence-transformers) (3.1.2)\n",
      "Requirement already satisfied: MarkupSafe>=2.0 in c:\\users\\msi\\anaconda3\\lib\\site-packages (from jinja2->torch>=1.6.0->sentence-transformers) (2.1.1)\n",
      "Requirement already satisfied: charset-normalizer<3,>=2 in c:\\users\\msi\\anaconda3\\lib\\site-packages (from requests->huggingface-hub>=0.4.0->sentence-transformers) (2.0.4)\n",
      "Requirement already satisfied: certifi>=2017.4.17 in c:\\users\\msi\\anaconda3\\lib\\site-packages (from requests->huggingface-hub>=0.4.0->sentence-transformers) (2022.12.7)\n",
      "Requirement already satisfied: idna<4,>=2.5 in c:\\users\\msi\\anaconda3\\lib\\site-packages (from requests->huggingface-hub>=0.4.0->sentence-transformers) (3.4)\n",
      "Requirement already satisfied: urllib3<1.27,>=1.21.1 in c:\\users\\msi\\anaconda3\\lib\\site-packages (from requests->huggingface-hub>=0.4.0->sentence-transformers) (1.26.14)\n",
      "Requirement already satisfied: mpmath>=0.19 in c:\\users\\msi\\anaconda3\\lib\\site-packages (from sympy->torch>=1.6.0->sentence-transformers) (1.2.1)\n",
      "Building wheels for collected packages: sentence-transformers\n",
      "  Building wheel for sentence-transformers (setup.py): started\n",
      "  Building wheel for sentence-transformers (setup.py): finished with status 'done'\n",
      "  Created wheel for sentence-transformers: filename=sentence_transformers-2.2.2-py3-none-any.whl size=125960 sha256=4ed11798cae4f4bbea4d89eb5864ae82aa3bbaebb55deb9ff4a031e0b03c38fc\n",
      "  Stored in directory: c:\\users\\msi\\appdata\\local\\pip\\cache\\wheels\\4b\\68\\65\\aba8be86302d9988b832f5e1f3417a87e4a868d396e4329f0a\n",
      "Successfully built sentence-transformers\n",
      "Installing collected packages: sentencepiece, torch, torchvision, sentence-transformers\n",
      "  Attempting uninstall: torch\n",
      "    Found existing installation: torch 1.12.1\n",
      "    Uninstalling torch-1.12.1:\n",
      "      Successfully uninstalled torch-1.12.1\n",
      "Successfully installed sentence-transformers-2.2.2 sentencepiece-0.1.99 torch-2.0.1 torchvision-0.15.2\n",
      "Note: you may need to restart the kernel to use updated packages.\n"
     ]
    },
    {
     "name": "stderr",
     "output_type": "stream",
     "text": [
      "WARNING: Ignoring invalid distribution -rotobuf (c:\\users\\msi\\anaconda3\\lib\\site-packages)\n",
      "WARNING: Ignoring invalid distribution -pencv-python (c:\\users\\msi\\anaconda3\\lib\\site-packages)\n",
      "WARNING: Ignoring invalid distribution -rotobuf (c:\\users\\msi\\anaconda3\\lib\\site-packages)\n",
      "WARNING: Ignoring invalid distribution -pencv-python (c:\\users\\msi\\anaconda3\\lib\\site-packages)\n",
      "WARNING: Ignoring invalid distribution -rotobuf (c:\\users\\msi\\anaconda3\\lib\\site-packages)\n",
      "WARNING: Ignoring invalid distribution -pencv-python (c:\\users\\msi\\anaconda3\\lib\\site-packages)\n",
      "    WARNING: Ignoring invalid distribution -rotobuf (c:\\users\\msi\\anaconda3\\lib\\site-packages)\n",
      "    WARNING: Ignoring invalid distribution -pencv-python (c:\\users\\msi\\anaconda3\\lib\\site-packages)\n",
      "WARNING: Ignoring invalid distribution -rotobuf (c:\\users\\msi\\anaconda3\\lib\\site-packages)\n",
      "WARNING: Ignoring invalid distribution -pencv-python (c:\\users\\msi\\anaconda3\\lib\\site-packages)\n",
      "WARNING: Ignoring invalid distribution -rotobuf (c:\\users\\msi\\anaconda3\\lib\\site-packages)\n",
      "WARNING: Ignoring invalid distribution -pencv-python (c:\\users\\msi\\anaconda3\\lib\\site-packages)\n",
      "WARNING: Ignoring invalid distribution -rotobuf (c:\\users\\msi\\anaconda3\\lib\\site-packages)\n",
      "WARNING: Ignoring invalid distribution -pencv-python (c:\\users\\msi\\anaconda3\\lib\\site-packages)\n",
      "WARNING: Ignoring invalid distribution -rotobuf (c:\\users\\msi\\anaconda3\\lib\\site-packages)\n",
      "WARNING: Ignoring invalid distribution -pencv-python (c:\\users\\msi\\anaconda3\\lib\\site-packages)\n",
      "WARNING: Ignoring invalid distribution -rotobuf (c:\\users\\msi\\anaconda3\\lib\\site-packages)\n",
      "WARNING: Ignoring invalid distribution -pencv-python (c:\\users\\msi\\anaconda3\\lib\\site-packages)\n",
      "WARNING: Ignoring invalid distribution -rotobuf (c:\\users\\msi\\anaconda3\\lib\\site-packages)\n",
      "WARNING: Ignoring invalid distribution -pencv-python (c:\\users\\msi\\anaconda3\\lib\\site-packages)\n",
      "WARNING: Ignoring invalid distribution -rotobuf (c:\\users\\msi\\anaconda3\\lib\\site-packages)\n",
      "WARNING: Ignoring invalid distribution -pencv-python (c:\\users\\msi\\anaconda3\\lib\\site-packages)\n"
     ]
    }
   ],
   "source": [
    "pip install -U sentence-transformers"
   ]
  },
  {
   "cell_type": "code",
   "execution_count": 4,
   "id": "de1adace",
   "metadata": {},
   "outputs": [],
   "source": [
    "import pandas as pd\n",
    "from sentence_transformers import SentenceTransformer\n",
    "from sklearn.metrics.pairwise import cosine_similarity"
   ]
  },
  {
   "cell_type": "markdown",
   "id": "41231cc4",
   "metadata": {},
   "source": [
    "# SentenceBERT\n",
    "https://huggingface.co/jhgan/ko-sroberta-multitask"
   ]
  },
  {
   "cell_type": "code",
   "execution_count": 5,
   "id": "f140c512",
   "metadata": {},
   "outputs": [
    {
     "data": {
      "application/vnd.jupyter.widget-view+json": {
       "model_id": "b533f214209941ee99a1410f9d30d5ff",
       "version_major": 2,
       "version_minor": 0
      },
      "text/plain": [
       "Downloading (…)f4419/.gitattributes:   0%|          | 0.00/1.18k [00:00<?, ?B/s]"
      ]
     },
     "metadata": {},
     "output_type": "display_data"
    },
    {
     "data": {
      "application/vnd.jupyter.widget-view+json": {
       "model_id": "69b142efa6f24138a96dc394b74785ae",
       "version_major": 2,
       "version_minor": 0
      },
      "text/plain": [
       "Downloading (…)_Pooling/config.json:   0%|          | 0.00/190 [00:00<?, ?B/s]"
      ]
     },
     "metadata": {},
     "output_type": "display_data"
    },
    {
     "data": {
      "application/vnd.jupyter.widget-view+json": {
       "model_id": "49830c4f8ec84024aa460e05e1cf5936",
       "version_major": 2,
       "version_minor": 0
      },
      "text/plain": [
       "Downloading (…)9cf1bf4419/README.md:   0%|          | 0.00/4.86k [00:00<?, ?B/s]"
      ]
     },
     "metadata": {},
     "output_type": "display_data"
    },
    {
     "data": {
      "application/vnd.jupyter.widget-view+json": {
       "model_id": "f841e82bc65c4024b902a4a4c11defad",
       "version_major": 2,
       "version_minor": 0
      },
      "text/plain": [
       "Downloading (…)f1bf4419/config.json:   0%|          | 0.00/744 [00:00<?, ?B/s]"
      ]
     },
     "metadata": {},
     "output_type": "display_data"
    },
    {
     "data": {
      "application/vnd.jupyter.widget-view+json": {
       "model_id": "ccdb24864dac4b20834ae48fbc8e083b",
       "version_major": 2,
       "version_minor": 0
      },
      "text/plain": [
       "Downloading (…)ce_transformers.json:   0%|          | 0.00/123 [00:00<?, ?B/s]"
      ]
     },
     "metadata": {},
     "output_type": "display_data"
    },
    {
     "data": {
      "application/vnd.jupyter.widget-view+json": {
       "model_id": "20715efb1f4341a6b820fadd237b53c3",
       "version_major": 2,
       "version_minor": 0
      },
      "text/plain": [
       "Downloading (…)_sts-dev_results.csv:   0%|          | 0.00/931 [00:00<?, ?B/s]"
      ]
     },
     "metadata": {},
     "output_type": "display_data"
    },
    {
     "data": {
      "application/vnd.jupyter.widget-view+json": {
       "model_id": "6805c62866b24a15818e65a75d198e7c",
       "version_major": 2,
       "version_minor": 0
      },
      "text/plain": [
       "Downloading pytorch_model.bin:   0%|          | 0.00/443M [00:00<?, ?B/s]"
      ]
     },
     "metadata": {},
     "output_type": "display_data"
    },
    {
     "data": {
      "application/vnd.jupyter.widget-view+json": {
       "model_id": "1c3b8b10b26e4b19b49252b5628dc6ec",
       "version_major": 2,
       "version_minor": 0
      },
      "text/plain": [
       "Downloading (…)nce_bert_config.json:   0%|          | 0.00/53.0 [00:00<?, ?B/s]"
      ]
     },
     "metadata": {},
     "output_type": "display_data"
    },
    {
     "data": {
      "application/vnd.jupyter.widget-view+json": {
       "model_id": "eb64f0ac167d4b5d926473ed550c8de6",
       "version_major": 2,
       "version_minor": 0
      },
      "text/plain": [
       "Downloading (…)sts-test_results.csv:   0%|          | 0.00/302 [00:00<?, ?B/s]"
      ]
     },
     "metadata": {},
     "output_type": "display_data"
    },
    {
     "data": {
      "application/vnd.jupyter.widget-view+json": {
       "model_id": "fb2526f6d3d94317b060827ea7cb8f96",
       "version_major": 2,
       "version_minor": 0
      },
      "text/plain": [
       "Downloading (…)cial_tokens_map.json:   0%|          | 0.00/156 [00:00<?, ?B/s]"
      ]
     },
     "metadata": {},
     "output_type": "display_data"
    },
    {
     "data": {
      "application/vnd.jupyter.widget-view+json": {
       "model_id": "00d1695eb856487ab0c89b89b1ceebb9",
       "version_major": 2,
       "version_minor": 0
      },
      "text/plain": [
       "Downloading (…)f4419/tokenizer.json:   0%|          | 0.00/495k [00:00<?, ?B/s]"
      ]
     },
     "metadata": {},
     "output_type": "display_data"
    },
    {
     "data": {
      "application/vnd.jupyter.widget-view+json": {
       "model_id": "4a71941da515483d9a17efe37c2734d1",
       "version_major": 2,
       "version_minor": 0
      },
      "text/plain": [
       "Downloading (…)okenizer_config.json:   0%|          | 0.00/585 [00:00<?, ?B/s]"
      ]
     },
     "metadata": {},
     "output_type": "display_data"
    },
    {
     "data": {
      "application/vnd.jupyter.widget-view+json": {
       "model_id": "ab581dc911d34175935b5c239db02ebf",
       "version_major": 2,
       "version_minor": 0
      },
      "text/plain": [
       "Downloading (…)9cf1bf4419/vocab.txt:   0%|          | 0.00/248k [00:00<?, ?B/s]"
      ]
     },
     "metadata": {},
     "output_type": "display_data"
    },
    {
     "data": {
      "application/vnd.jupyter.widget-view+json": {
       "model_id": "7ab92587c0a94647af86591b878afdbb",
       "version_major": 2,
       "version_minor": 0
      },
      "text/plain": [
       "Downloading (…)1bf4419/modules.json:   0%|          | 0.00/229 [00:00<?, ?B/s]"
      ]
     },
     "metadata": {},
     "output_type": "display_data"
    },
    {
     "name": "stdout",
     "output_type": "stream",
     "text": [
      "[[-0.37510458 -0.7733839   0.5927711  ...  0.57923526  0.3268346\n",
      "  -0.65089655]\n",
      " [-0.09361681 -0.18191518 -0.19230832 ... -0.03165777  0.30412534\n",
      "  -0.2679363 ]]\n"
     ]
    }
   ],
   "source": [
    "model = SentenceTransformer('jhgan/ko-sroberta-multitask')\n",
    "\n",
    "sentences = [\"안녕하세요?\", \"한국어 문장 임베딩을 위한 버트 모델입니다.\"]\n",
    "embeddings = model.encode(sentences)\n",
    "\n",
    "print(embeddings)"
   ]
  },
  {
   "cell_type": "markdown",
   "id": "693016d1",
   "metadata": {},
   "source": [
    "# Dataset\n",
    "https://www.aihub.or.kr/aihubdata/data/view.do?currMenu=118&topMenu=100&aihubDataSe=extrldata&dataSetSn=267"
   ]
  },
  {
   "cell_type": "code",
   "execution_count": 28,
   "id": "e978727c",
   "metadata": {},
   "outputs": [
    {
     "data": {
      "text/html": [
       "<div>\n",
       "<style scoped>\n",
       "    .dataframe tbody tr th:only-of-type {\n",
       "        vertical-align: middle;\n",
       "    }\n",
       "\n",
       "    .dataframe tbody tr th {\n",
       "        vertical-align: top;\n",
       "    }\n",
       "\n",
       "    .dataframe thead th {\n",
       "        text-align: right;\n",
       "    }\n",
       "</style>\n",
       "<table border=\"1\" class=\"dataframe\">\n",
       "  <thead>\n",
       "    <tr style=\"text-align: right;\">\n",
       "      <th></th>\n",
       "      <th>구분</th>\n",
       "      <th>유저</th>\n",
       "      <th>챗봇</th>\n",
       "      <th>Unnamed: 3</th>\n",
       "    </tr>\n",
       "  </thead>\n",
       "  <tbody>\n",
       "    <tr>\n",
       "      <th>0</th>\n",
       "      <td>감정/감정조절이상</td>\n",
       "      <td>제 감정이 이상해진 것 같아요. 남편만 보면 화가 치밀어 오르고 감정 조절이 안되요.</td>\n",
       "      <td>감정이 조절이 안 될 때만큼 힘들 때는 없는 거 같아요.</td>\n",
       "      <td>NaN</td>\n",
       "    </tr>\n",
       "    <tr>\n",
       "      <th>1</th>\n",
       "      <td>감정/감정조절이상</td>\n",
       "      <td>더 이상 내 감정을 내가 컨트롤 못 하겠어.</td>\n",
       "      <td>저도 그 기분 이해해요. 많이 힘드시죠?</td>\n",
       "      <td>NaN</td>\n",
       "    </tr>\n",
       "    <tr>\n",
       "      <th>2</th>\n",
       "      <td>감정/감정조절이상</td>\n",
       "      <td>하루종일 오르락내리락 롤러코스터 타는 기분이에요.</td>\n",
       "      <td>그럴 때는 밥은 잘 먹었는지, 잠은 잘 잤는지 체크해보는 것도 좋아요.</td>\n",
       "      <td>NaN</td>\n",
       "    </tr>\n",
       "    <tr>\n",
       "      <th>3</th>\n",
       "      <td>감정/감정조절이상</td>\n",
       "      <td>꼭 롤러코스터 타는 것 같아요.</td>\n",
       "      <td>NaN</td>\n",
       "      <td>NaN</td>\n",
       "    </tr>\n",
       "    <tr>\n",
       "      <th>4</th>\n",
       "      <td>감정/감정조절이상</td>\n",
       "      <td>롤러코스터 타는 것처럼 기분이 왔다 갔다 해요.</td>\n",
       "      <td>NaN</td>\n",
       "      <td>NaN</td>\n",
       "    </tr>\n",
       "  </tbody>\n",
       "</table>\n",
       "</div>"
      ],
      "text/plain": [
       "          구분                                               유저  \\\n",
       "0  감정/감정조절이상  제 감정이 이상해진 것 같아요. 남편만 보면 화가 치밀어 오르고 감정 조절이 안되요.   \n",
       "1  감정/감정조절이상                         더 이상 내 감정을 내가 컨트롤 못 하겠어.   \n",
       "2  감정/감정조절이상                      하루종일 오르락내리락 롤러코스터 타는 기분이에요.   \n",
       "3  감정/감정조절이상                                꼭 롤러코스터 타는 것 같아요.   \n",
       "4  감정/감정조절이상                       롤러코스터 타는 것처럼 기분이 왔다 갔다 해요.   \n",
       "\n",
       "                                        챗봇  Unnamed: 3  \n",
       "0          감정이 조절이 안 될 때만큼 힘들 때는 없는 거 같아요.         NaN  \n",
       "1                   저도 그 기분 이해해요. 많이 힘드시죠?         NaN  \n",
       "2  그럴 때는 밥은 잘 먹었는지, 잠은 잘 잤는지 체크해보는 것도 좋아요.         NaN  \n",
       "3                                      NaN         NaN  \n",
       "4                                      NaN         NaN  "
      ]
     },
     "execution_count": 28,
     "metadata": {},
     "output_type": "execute_result"
    }
   ],
   "source": [
    "df = pd.read_csv('wellness_data.csv')\n",
    "\n",
    "df.head()"
   ]
  },
  {
   "cell_type": "code",
   "execution_count": 29,
   "id": "428ee6a0",
   "metadata": {},
   "outputs": [
    {
     "name": "stdout",
     "output_type": "stream",
     "text": [
      "<class 'pandas.core.frame.DataFrame'>\n",
      "RangeIndex: 5231 entries, 0 to 5230\n",
      "Data columns (total 4 columns):\n",
      " #   Column      Non-Null Count  Dtype  \n",
      "---  ------      --------------  -----  \n",
      " 0   구분          5231 non-null   object \n",
      " 1   유저          5231 non-null   object \n",
      " 2   챗봇          1034 non-null   object \n",
      " 3   Unnamed: 3  0 non-null      float64\n",
      "dtypes: float64(1), object(3)\n",
      "memory usage: 163.6+ KB\n"
     ]
    }
   ],
   "source": [
    "df.info()"
   ]
  },
  {
   "cell_type": "markdown",
   "id": "04b81b61",
   "metadata": {},
   "source": [
    "# Data Preprossing"
   ]
  },
  {
   "cell_type": "code",
   "execution_count": 30,
   "id": "8af5d5a9",
   "metadata": {},
   "outputs": [
    {
     "data": {
      "text/html": [
       "<div>\n",
       "<style scoped>\n",
       "    .dataframe tbody tr th:only-of-type {\n",
       "        vertical-align: middle;\n",
       "    }\n",
       "\n",
       "    .dataframe tbody tr th {\n",
       "        vertical-align: top;\n",
       "    }\n",
       "\n",
       "    .dataframe thead th {\n",
       "        text-align: right;\n",
       "    }\n",
       "</style>\n",
       "<table border=\"1\" class=\"dataframe\">\n",
       "  <thead>\n",
       "    <tr style=\"text-align: right;\">\n",
       "      <th></th>\n",
       "      <th>구분</th>\n",
       "      <th>유저</th>\n",
       "      <th>챗봇</th>\n",
       "    </tr>\n",
       "  </thead>\n",
       "  <tbody>\n",
       "    <tr>\n",
       "      <th>0</th>\n",
       "      <td>감정/감정조절이상</td>\n",
       "      <td>제 감정이 이상해진 것 같아요. 남편만 보면 화가 치밀어 오르고 감정 조절이 안되요.</td>\n",
       "      <td>감정이 조절이 안 될 때만큼 힘들 때는 없는 거 같아요.</td>\n",
       "    </tr>\n",
       "    <tr>\n",
       "      <th>1</th>\n",
       "      <td>감정/감정조절이상</td>\n",
       "      <td>더 이상 내 감정을 내가 컨트롤 못 하겠어.</td>\n",
       "      <td>저도 그 기분 이해해요. 많이 힘드시죠?</td>\n",
       "    </tr>\n",
       "    <tr>\n",
       "      <th>2</th>\n",
       "      <td>감정/감정조절이상</td>\n",
       "      <td>하루종일 오르락내리락 롤러코스터 타는 기분이에요.</td>\n",
       "      <td>그럴 때는 밥은 잘 먹었는지, 잠은 잘 잤는지 체크해보는 것도 좋아요.</td>\n",
       "    </tr>\n",
       "    <tr>\n",
       "      <th>15</th>\n",
       "      <td>감정/감정조절이상/화</td>\n",
       "      <td>평소 다른 일을 할 때도 비슷해요. 생각한대로 안되면 화가 나고…그런 상황이 지속되...</td>\n",
       "      <td>화가 폭발할 것 같을 때는 그 자리를 피하는 것도 좋은 방법이라고 생각해요.</td>\n",
       "    </tr>\n",
       "    <tr>\n",
       "      <th>16</th>\n",
       "      <td>감정/감정조절이상/화</td>\n",
       "      <td>예전보다 화내는 게 과격해진 거 같아.</td>\n",
       "      <td>정말 힘드시겠어요. 화는 남에게도 스스로에게도 상처를 주잖아요.</td>\n",
       "    </tr>\n",
       "  </tbody>\n",
       "</table>\n",
       "</div>"
      ],
      "text/plain": [
       "             구분                                                 유저  \\\n",
       "0     감정/감정조절이상    제 감정이 이상해진 것 같아요. 남편만 보면 화가 치밀어 오르고 감정 조절이 안되요.   \n",
       "1     감정/감정조절이상                           더 이상 내 감정을 내가 컨트롤 못 하겠어.   \n",
       "2     감정/감정조절이상                        하루종일 오르락내리락 롤러코스터 타는 기분이에요.   \n",
       "15  감정/감정조절이상/화  평소 다른 일을 할 때도 비슷해요. 생각한대로 안되면 화가 나고…그런 상황이 지속되...   \n",
       "16  감정/감정조절이상/화                              예전보다 화내는 게 과격해진 거 같아.   \n",
       "\n",
       "                                            챗봇  \n",
       "0              감정이 조절이 안 될 때만큼 힘들 때는 없는 거 같아요.  \n",
       "1                       저도 그 기분 이해해요. 많이 힘드시죠?  \n",
       "2      그럴 때는 밥은 잘 먹었는지, 잠은 잘 잤는지 체크해보는 것도 좋아요.  \n",
       "15  화가 폭발할 것 같을 때는 그 자리를 피하는 것도 좋은 방법이라고 생각해요.  \n",
       "16         정말 힘드시겠어요. 화는 남에게도 스스로에게도 상처를 주잖아요.  "
      ]
     },
     "execution_count": 30,
     "metadata": {},
     "output_type": "execute_result"
    }
   ],
   "source": [
    "df = df.drop(columns=['Unnamed: 3'])\n",
    "df = df[~df['챗봇'].isna()]\n",
    "\n",
    "df.head()"
   ]
  },
  {
   "cell_type": "code",
   "execution_count": 31,
   "id": "2ed411ad",
   "metadata": {},
   "outputs": [
    {
     "data": {
      "text/plain": [
       "'제 감정이 이상해진 것 같아요. 남편만 보면 화가 치밀어 오르고 감정 조절이 안되요.'"
      ]
     },
     "execution_count": 31,
     "metadata": {},
     "output_type": "execute_result"
    }
   ],
   "source": [
    "df.loc[0, '유저']"
   ]
  },
  {
   "cell_type": "code",
   "execution_count": 32,
   "id": "ccfb15aa",
   "metadata": {},
   "outputs": [
    {
     "data": {
      "text/plain": [
       "array([-4.80606616e-01, -2.94869423e-01,  4.37900215e-01, -6.40137851e-01,\n",
       "        3.28670740e-02, -3.42647374e-01, -5.47481179e-02,  1.73056182e-02,\n",
       "       -4.08221096e-01, -5.06034076e-01, -1.68733463e-01, -3.98676932e-01,\n",
       "       -1.24776840e-01, -9.71538201e-02, -1.65286884e-01,  5.72612369e-03,\n",
       "        6.13690987e-02, -1.91312388e-01,  2.53917605e-01, -5.85019708e-01,\n",
       "       -2.84425557e-01, -2.32034907e-01, -3.27080548e-01,  6.72975630e-02,\n",
       "       -1.62805827e-05, -4.72336292e-01, -3.60021859e-01,  2.91879863e-01,\n",
       "       -6.63861156e-01, -3.10574383e-01,  5.79524994e-01, -3.11722606e-01,\n",
       "        1.47696752e-02, -2.12172851e-01,  2.22057894e-01, -1.73828974e-01,\n",
       "       -3.78458500e-01, -4.20398414e-01, -2.38218918e-01,  6.38703927e-02,\n",
       "       -1.15304396e-01, -2.44563922e-01, -5.00228345e-01,  1.68355241e-01,\n",
       "       -6.58360124e-01, -8.91941845e-01, -6.26956999e-01, -3.21965545e-01,\n",
       "       -7.05358803e-01,  3.71447295e-01, -5.45803428e-01,  7.76295438e-02,\n",
       "        1.09864593e-01,  2.60926723e-01,  5.70638776e-01,  4.83376235e-01,\n",
       "       -4.98233259e-01, -1.25609308e-01,  6.48293421e-02,  1.31347179e-02,\n",
       "       -9.61790606e-02, -4.69374985e-01,  1.95989043e-01,  5.54263532e-01,\n",
       "       -5.48073724e-02,  5.83692908e-01,  5.35227418e-01,  1.76424950e-01,\n",
       "       -1.22763276e-01,  1.60847023e-01,  1.41474932e-01,  1.20705247e+00,\n",
       "        6.68891907e-01, -1.77987143e-01, -2.65273869e-01, -7.37364888e-02,\n",
       "       -6.52006984e-01,  7.05029070e-01,  3.38973105e-01,  7.44479597e-01,\n",
       "       -2.32737392e-01,  8.69918019e-02, -1.99688748e-01,  3.89366485e-02,\n",
       "        4.56739157e-01,  4.72499102e-01,  4.76455599e-01, -3.94157469e-01,\n",
       "       -1.58249855e-01,  2.30056524e-01, -7.33413160e-01, -2.81495035e-01,\n",
       "       -3.65628809e-01, -3.06134790e-01,  5.54837763e-01, -4.36482392e-02,\n",
       "        6.42942125e-03,  6.42393649e-01, -4.23780769e-01,  3.66444916e-01,\n",
       "       -2.23843321e-01, -1.02090812e+00,  2.90704578e-01, -1.98106363e-01,\n",
       "        1.18598655e-01, -1.10149610e+00,  7.87619222e-03,  4.42555338e-01,\n",
       "       -1.84308976e-01, -1.11383510e+00, -6.35486096e-02,  3.82617682e-01,\n",
       "        3.19343023e-02,  5.33849001e-03,  1.28215089e-01,  2.67615050e-01,\n",
       "       -4.09684747e-01, -2.34070271e-01,  4.23293889e-01, -1.85263842e-01,\n",
       "        5.28334200e-01, -8.20846930e-02, -1.60460085e-01, -2.11379632e-01,\n",
       "       -3.30951698e-02, -5.65643966e-01, -8.22234079e-02,  6.33469582e-01,\n",
       "       -6.89976364e-02, -4.09637660e-01, -1.70856342e-01, -4.48214747e-02,\n",
       "        2.04584494e-01, -7.15699196e-01,  2.02314124e-01,  1.36369318e-01,\n",
       "       -2.02902183e-01, -6.36676133e-01,  2.00451687e-01,  3.50281924e-01,\n",
       "       -6.38650239e-01, -6.02856278e-02, -1.89429522e-01, -1.09799691e-01,\n",
       "       -1.02065906e-01, -3.87781322e-01, -6.51845708e-02, -1.08272703e-02,\n",
       "       -1.96998373e-01, -8.77868608e-02, -6.75757885e-01, -4.23239708e-01,\n",
       "        8.39255974e-02,  3.25871497e-01,  8.25180471e-01, -3.97949725e-01,\n",
       "        8.68656789e-04,  5.75698018e-01,  8.25041533e-02,  9.16275904e-02,\n",
       "       -5.58025002e-01, -1.46185532e-01, -7.81165779e-01,  8.25589523e-02,\n",
       "       -7.54720718e-02,  1.78786650e-01,  1.14617182e-03,  2.46109098e-01,\n",
       "        2.54704744e-01, -2.15058118e-01,  4.98201281e-01,  1.62568092e-01,\n",
       "        3.10305178e-01,  1.72159284e-01,  6.11411750e-01,  2.40110248e-01,\n",
       "        4.81477946e-01,  5.03619313e-02,  4.37822968e-01, -3.92508030e-01,\n",
       "       -5.68297565e-01,  9.06163216e-01,  4.21260685e-01,  2.00669974e-01,\n",
       "       -3.01369160e-01,  3.08158666e-01,  2.09018826e-01, -3.07969421e-01,\n",
       "       -1.80494666e-01,  6.86861649e-02,  8.82594764e-01,  1.83177948e-01,\n",
       "       -1.13062263e-01, -5.55954933e-01, -9.77978576e-03, -1.27596676e-01,\n",
       "       -4.29738671e-01, -1.13016792e-01, -1.89254507e-01,  2.49697462e-01,\n",
       "       -2.61328608e-01, -3.91260684e-01, -2.63828337e-01,  1.65253565e-01,\n",
       "        5.30026436e-01, -3.99860054e-01, -3.08908403e-01,  3.59966487e-01,\n",
       "        4.66617286e-01, -3.19500752e-02, -5.92678905e-01, -3.42451990e-01,\n",
       "       -1.90145895e-01, -3.22044462e-01, -2.08034009e-01, -4.68787611e-01,\n",
       "        2.60370225e-01, -3.10487896e-01,  3.08493555e-01, -5.58807433e-01,\n",
       "       -3.15932423e-01, -6.11169457e-01, -8.03795457e-03, -3.57464552e-01,\n",
       "       -7.77103975e-02, -1.36108488e-01,  3.62247080e-01, -1.04268181e+00,\n",
       "        2.66694844e-01, -3.39091033e-01,  6.24726061e-03,  5.45239188e-02,\n",
       "       -1.02638483e-01, -2.67193556e-01, -5.36906838e-01, -3.32567841e-01,\n",
       "        1.79672867e-01, -4.72881272e-02,  2.58300960e-01,  6.13249950e-02,\n",
       "        4.89076562e-02, -2.22135022e-01, -5.60372531e-01,  2.79794246e-01,\n",
       "       -2.88628995e-01,  3.76666009e-01, -6.29106939e-01, -5.76253057e-01,\n",
       "        5.28726578e-01, -5.10725558e-01, -1.89374462e-01, -3.58018130e-01,\n",
       "       -5.50130725e-01,  1.71586514e-01,  9.91871729e-02, -1.48076624e-01,\n",
       "        9.65984687e-02,  2.78743654e-01,  1.04141104e+00, -2.29346961e-01,\n",
       "        5.47819912e-01, -1.33991167e-01,  4.53759044e-01, -1.24763198e-01,\n",
       "       -3.36636335e-01,  1.19639024e-01, -2.03773640e-02, -4.97904986e-01,\n",
       "       -3.44481468e-01,  5.91197848e-01,  2.08580688e-01, -4.75012720e-01,\n",
       "        1.56643942e-01, -2.28076428e-01,  1.56071573e-01,  7.77589500e-01,\n",
       "        5.55078872e-02,  4.68445271e-01, -4.18879129e-02, -2.33576342e-01,\n",
       "        6.30587101e-01,  3.43996108e-01, -3.72299612e-01,  4.22592819e-01,\n",
       "       -1.28934944e+00,  7.28118360e-01,  7.39577174e-01, -1.57391593e-01,\n",
       "       -2.73995399e-01,  3.68652530e-02, -5.34251630e-01,  5.79056442e-01,\n",
       "        4.52849299e-01, -1.12652838e+00,  8.49233121e-02,  4.00369950e-02,\n",
       "        5.59743762e-01, -1.44835874e-01, -1.36150226e-01,  2.27955416e-01,\n",
       "       -2.42799491e-01,  4.50198263e-01, -4.44726795e-01,  5.72472289e-02,\n",
       "       -3.26299429e-01,  3.96920554e-02, -3.63902718e-01, -7.14615941e-01,\n",
       "        2.71116160e-02,  3.17301959e-01,  2.74653137e-01, -2.76966423e-01,\n",
       "       -6.03288114e-01, -1.80377252e-02, -1.60021424e-01,  4.97588634e-01,\n",
       "       -4.02046829e-01, -3.95431340e-01, -1.88366890e-01,  2.06625134e-01,\n",
       "        3.04095745e-01, -3.11066240e-01,  3.70663665e-02, -9.00971711e-01,\n",
       "        2.54859656e-01, -2.00540349e-01,  1.62926778e-01, -3.99486005e-01,\n",
       "        4.31149155e-01,  9.35605228e-01,  7.70609200e-01, -1.80281520e-01,\n",
       "        7.98517585e-01, -5.61508358e-01,  3.77493680e-01, -3.04624707e-01,\n",
       "        3.04160684e-01, -7.78201371e-02, -1.80557951e-01,  1.92048699e-01,\n",
       "        7.25668430e-01, -1.46759659e-01,  2.77360052e-01, -3.10689896e-01,\n",
       "        3.84764254e-01, -9.89022478e-02,  1.33972764e-02, -3.74624252e-01,\n",
       "        6.19450271e-01, -1.19058676e-01,  5.74723661e-01,  4.28427011e-01,\n",
       "        1.73577145e-01, -5.50395548e-01,  3.84832442e-01, -1.56954914e-01,\n",
       "       -1.65573712e-02,  2.90996246e-02, -1.59130201e-01,  7.94793785e-01,\n",
       "        4.56630856e-01,  1.08081810e-01,  1.70058578e-01,  3.50347608e-02,\n",
       "       -2.01883003e-01, -1.83399871e-01,  2.56279558e-01,  8.36629927e-01,\n",
       "        5.35586953e-01,  4.41516608e-01,  3.18019167e-02, -2.46379524e-01,\n",
       "       -2.17681736e-01,  2.26683930e-01, -2.78986037e-01,  4.22987938e-02,\n",
       "       -2.80858904e-01,  2.65038729e-01, -3.63109261e-01, -6.51625574e-01,\n",
       "        1.56545803e-01, -1.82192866e-02, -2.57317811e-01,  1.89768329e-01,\n",
       "       -1.36993527e-01,  4.79501598e-02,  4.41078722e-01, -2.83327013e-01,\n",
       "        1.25181928e-01,  4.78675544e-01,  3.22104394e-01, -3.69764954e-01,\n",
       "       -6.76260352e-01,  3.52737457e-01,  1.97329089e-01,  3.01312268e-01,\n",
       "       -1.70432329e-01,  1.91598330e-02, -4.52054739e-01, -2.89518833e-01,\n",
       "        6.21264338e-01,  7.11012363e-01,  7.38061443e-02, -1.13718808e-01,\n",
       "        4.01600033e-01,  3.53704721e-01, -1.70214400e-01, -6.32789493e-01,\n",
       "       -5.92871785e-01,  4.90854800e-01,  3.11830848e-01, -1.06596112e-01,\n",
       "        6.99721038e-01, -6.40676081e-01,  9.11575034e-02,  1.48974761e-01,\n",
       "        1.12392139e-02,  1.35593757e-01,  1.30469635e-01, -3.76635283e-01,\n",
       "        5.62429905e-01, -4.00536329e-01,  2.05565006e-01, -2.96905100e-01,\n",
       "       -5.38131118e-01, -4.20320541e-01, -6.31194487e-02,  1.50621623e-01,\n",
       "       -3.38527530e-01,  5.21204591e-01, -4.65558529e-01, -3.12167257e-01,\n",
       "       -3.87226880e-01, -4.87661928e-01, -1.49837346e-03,  6.48480058e-01,\n",
       "        1.56930938e-01, -3.11310142e-01, -8.74776691e-02, -2.41719276e-01,\n",
       "       -8.19946587e-01, -9.02201116e-01, -8.39586914e-01,  2.95952205e-02,\n",
       "        3.79318863e-01, -3.63524646e-01, -2.12089136e-01,  3.26290786e-01,\n",
       "       -5.83360553e-01, -2.70313531e-01, -1.90380096e-01,  5.40128052e-01,\n",
       "        4.60663795e-01,  2.41606206e-01, -1.55656010e-01,  1.10515499e+00,\n",
       "        3.81636888e-01, -1.74268559e-01,  1.18968174e-01, -2.14279562e-01,\n",
       "        3.82164210e-01, -3.88768911e-01,  5.05674779e-01,  1.41617849e-01,\n",
       "        3.24829549e-01,  1.17207117e-01,  1.90372616e-01, -1.00517757e-01,\n",
       "        7.24771693e-02, -8.40551853e-01, -1.66888162e-01,  1.35379001e-01,\n",
       "       -2.34575957e-01, -6.08672909e-02, -2.85460919e-01,  6.98203385e-01,\n",
       "       -3.75757039e-01, -1.00718021e-01, -6.50324464e-01,  1.71460584e-01,\n",
       "       -4.01935428e-01,  5.49870670e-01,  8.29206854e-02, -1.16668716e-01,\n",
       "        7.88919330e-02,  8.92651454e-02,  4.86942917e-01, -4.59339470e-01,\n",
       "        9.24550816e-02,  7.74140239e-01, -9.86551821e-01, -1.73161432e-01,\n",
       "       -1.85814351e-01, -5.37258089e-01, -2.54958570e-01, -4.34431881e-01,\n",
       "        3.07514574e-02, -8.44854057e-01, -2.82899648e-01, -1.30699515e+00,\n",
       "       -6.73803151e-01, -6.54637456e-01,  4.86585200e-01, -2.13963702e-01,\n",
       "        5.78385830e-01,  2.93961942e-01, -4.04392302e-01, -7.01608539e-01,\n",
       "       -1.73342898e-01,  3.51328641e-01,  1.19920798e-01,  6.68859556e-02,\n",
       "       -1.38902858e-01, -5.46096981e-01,  1.97513834e-01,  8.67951736e-02,\n",
       "       -7.13970482e-01,  1.36450812e-01,  4.15191710e-01, -1.77055359e-01,\n",
       "       -2.05800742e-01,  6.08606219e-01, -1.40279487e-01,  2.65653998e-01,\n",
       "        5.22156954e-02, -1.10528812e-01,  3.22062194e-01, -2.36263186e-01,\n",
       "        2.32510701e-01, -4.01646554e-01,  9.92266536e-02,  2.12363556e-01,\n",
       "        4.54302788e-01,  1.93776801e-01,  1.90576926e-01,  6.74432874e-01,\n",
       "        6.50041848e-02,  1.11985587e-01, -6.33732453e-02,  4.36560661e-01,\n",
       "        7.08307564e-01,  4.61303681e-01, -4.12172824e-01, -3.44057292e-01,\n",
       "       -3.16411793e-01, -3.95598382e-01, -1.39264837e-02, -2.46823549e-01,\n",
       "       -5.97274899e-01, -4.93520200e-01,  2.20008921e-02, -6.79914653e-01,\n",
       "       -1.32434005e-02, -1.62385777e-01, -4.11045998e-01, -4.95454162e-01,\n",
       "       -2.55482018e-01, -1.97103292e-01, -3.67735296e-01, -6.45768583e-01,\n",
       "       -1.24110115e+00,  6.32802665e-01,  1.81258172e-01,  1.86037049e-01,\n",
       "       -2.75285691e-01,  4.46102507e-02, -3.82379055e-01,  6.66201115e-03,\n",
       "       -2.56120890e-01,  6.45589978e-02,  3.85579675e-01, -2.17116356e-01,\n",
       "       -9.55902874e-01, -2.15195999e-01,  4.17431772e-01,  2.25791618e-01,\n",
       "       -4.59713936e-01, -6.38202071e-01, -5.95626831e-01, -8.46444890e-02,\n",
       "       -5.84241271e-01, -5.22198260e-01,  6.69408664e-02,  5.54488182e-01,\n",
       "        2.70057380e-01,  1.14965796e-01,  5.91448009e-01, -9.82940346e-02,\n",
       "       -8.05462301e-01,  1.21461146e-01,  3.13535601e-01, -1.09966703e-01,\n",
       "        4.52007741e-01,  1.56954393e-01, -5.73435903e-01, -4.65393096e-01,\n",
       "       -5.09208217e-02,  1.38996720e-01, -1.79907426e-01,  3.46673802e-02,\n",
       "        3.28499287e-01, -3.08243483e-01, -3.20267826e-01, -7.92234957e-01,\n",
       "       -5.56746185e-01,  2.58380622e-01, -1.15094505e-01, -9.68659073e-02,\n",
       "       -3.73693258e-01,  4.09340441e-01, -2.20841616e-01, -7.74916232e-01,\n",
       "       -3.03384960e-01,  6.75034463e-01, -5.39470911e-01, -1.12011552e-01,\n",
       "       -4.62304533e-01,  4.86268044e-01,  3.34404796e-01,  3.11684817e-01,\n",
       "        1.37019753e-01,  1.20470338e-01, -7.88884580e-01,  2.49228150e-01,\n",
       "        3.69005948e-01, -3.55891660e-02,  9.60912228e-01,  4.11124378e-01,\n",
       "        3.08286935e-01, -8.89442638e-02,  5.68126202e-01, -2.19461992e-01,\n",
       "        6.64631426e-01,  1.33867860e-01, -9.25524384e-02, -4.02042896e-01,\n",
       "       -2.44861290e-01,  4.75438178e-01, -5.59731126e-01,  4.23794538e-01,\n",
       "        7.64953941e-02, -5.34291923e-01,  9.61298794e-02, -1.98237807e-03,\n",
       "        1.52365416e-01,  2.72848643e-02, -2.30465993e-01, -6.57617390e-01,\n",
       "       -8.41355205e-01,  6.93241596e-01, -1.15385926e+00,  3.39940131e-01,\n",
       "        6.39492035e-01, -3.07580698e-02, -9.44075435e-02, -3.81874859e-01,\n",
       "       -1.51737049e-01,  3.89264196e-01,  6.98378682e-01, -3.58799398e-01,\n",
       "        1.73822045e-01, -7.02522844e-02,  2.98745602e-01,  4.25366402e-01,\n",
       "        3.03247482e-01,  4.43032943e-02, -1.19768552e-01,  1.56500787e-01,\n",
       "        5.65419853e-01, -6.15675151e-01, -4.82267886e-01, -6.78219646e-02,\n",
       "       -2.88993508e-01, -4.48902130e-01, -5.26656210e-01,  3.26252282e-01,\n",
       "        5.28493762e-01,  1.38639942e-01, -7.72885203e-01, -5.26201069e-01,\n",
       "        3.72999102e-01,  3.05722088e-01,  6.69044495e-01, -5.61774597e-02,\n",
       "        4.14461166e-01,  2.05879912e-01,  5.97795606e-01,  1.40301138e-01,\n",
       "       -3.20002846e-02,  3.41694146e-01,  4.73952778e-02, -1.09114453e-01,\n",
       "       -4.06928062e-01, -1.22425012e-01, -1.50909647e-01,  2.56388098e-01,\n",
       "        1.39329778e-02, -2.18361035e-01,  4.44866329e-01,  5.06847024e-01,\n",
       "       -2.75423020e-01,  8.68547559e-01, -1.61321908e-01, -8.95715598e-03,\n",
       "        2.11986929e-01,  1.03369914e-01, -1.06486782e-01, -3.07435036e-01,\n",
       "        6.36290491e-01,  4.12887707e-02,  3.60754393e-02, -4.70250137e-02,\n",
       "       -1.08839221e-01, -8.88797175e-03, -1.25094458e-01, -5.34434140e-01,\n",
       "       -4.71274346e-01,  1.96804672e-01,  3.41911986e-02, -5.81325352e-01,\n",
       "        1.44222016e-02,  5.15582204e-01,  1.34000644e-01, -1.61631599e-01,\n",
       "       -1.97617844e-01, -6.94736838e-01, -5.58743954e-01,  9.49026704e-01,\n",
       "       -1.94513768e-01,  4.25469801e-02,  4.92083609e-01, -5.84432125e-01,\n",
       "        6.24192536e-01,  4.92841184e-01,  1.22477196e-01, -4.79153901e-01,\n",
       "        5.99287033e-01,  3.32147360e-01,  1.98169842e-01,  5.98622151e-02,\n",
       "       -6.37894869e-03, -1.07340470e-01, -1.58823863e-01, -1.40382200e-02,\n",
       "       -3.10648024e-01,  4.95430410e-01, -1.67429447e-01, -6.59496859e-02,\n",
       "       -1.76547274e-01, -4.49960858e-01, -2.71651179e-01, -1.50339887e-01,\n",
       "       -1.87571391e-01, -5.60149670e-01,  1.33679420e-01, -4.36347425e-01,\n",
       "        1.28170446e-01, -1.43580481e-01,  2.30380684e-01, -5.46673611e-02,\n",
       "        3.71279985e-01,  1.98934004e-01,  4.64870721e-01,  3.64102095e-01,\n",
       "       -4.83268090e-02,  2.67422944e-01, -7.10749328e-01,  5.07541187e-02],\n",
       "      dtype=float32)"
      ]
     },
     "execution_count": 32,
     "metadata": {},
     "output_type": "execute_result"
    }
   ],
   "source": [
    "model.encode(df.loc[0, '유저'])"
   ]
  },
  {
   "cell_type": "markdown",
   "id": "33df5e23",
   "metadata": {},
   "source": [
    "# 유저 인코딩"
   ]
  },
  {
   "cell_type": "code",
   "execution_count": 33,
   "id": "2a974899",
   "metadata": {},
   "outputs": [
    {
     "data": {
      "text/html": [
       "<div>\n",
       "<style scoped>\n",
       "    .dataframe tbody tr th:only-of-type {\n",
       "        vertical-align: middle;\n",
       "    }\n",
       "\n",
       "    .dataframe tbody tr th {\n",
       "        vertical-align: top;\n",
       "    }\n",
       "\n",
       "    .dataframe thead th {\n",
       "        text-align: right;\n",
       "    }\n",
       "</style>\n",
       "<table border=\"1\" class=\"dataframe\">\n",
       "  <thead>\n",
       "    <tr style=\"text-align: right;\">\n",
       "      <th></th>\n",
       "      <th>구분</th>\n",
       "      <th>유저</th>\n",
       "      <th>챗봇</th>\n",
       "      <th>encoding</th>\n",
       "    </tr>\n",
       "  </thead>\n",
       "  <tbody>\n",
       "    <tr>\n",
       "      <th>0</th>\n",
       "      <td>감정/감정조절이상</td>\n",
       "      <td>제 감정이 이상해진 것 같아요. 남편만 보면 화가 치밀어 오르고 감정 조절이 안되요.</td>\n",
       "      <td>감정이 조절이 안 될 때만큼 힘들 때는 없는 거 같아요.</td>\n",
       "      <td>[-0.48060662, -0.29486942, 0.43790022, -0.6401...</td>\n",
       "    </tr>\n",
       "    <tr>\n",
       "      <th>1</th>\n",
       "      <td>감정/감정조절이상</td>\n",
       "      <td>더 이상 내 감정을 내가 컨트롤 못 하겠어.</td>\n",
       "      <td>저도 그 기분 이해해요. 많이 힘드시죠?</td>\n",
       "      <td>[-1.1561574, -0.14506274, 0.2949036, -0.673949...</td>\n",
       "    </tr>\n",
       "    <tr>\n",
       "      <th>2</th>\n",
       "      <td>감정/감정조절이상</td>\n",
       "      <td>하루종일 오르락내리락 롤러코스터 타는 기분이에요.</td>\n",
       "      <td>그럴 때는 밥은 잘 먹었는지, 잠은 잘 잤는지 체크해보는 것도 좋아요.</td>\n",
       "      <td>[-0.6652004, -0.081268355, 1.0945568, 0.105792...</td>\n",
       "    </tr>\n",
       "    <tr>\n",
       "      <th>15</th>\n",
       "      <td>감정/감정조절이상/화</td>\n",
       "      <td>평소 다른 일을 할 때도 비슷해요. 생각한대로 안되면 화가 나고…그런 상황이 지속되...</td>\n",
       "      <td>화가 폭발할 것 같을 때는 그 자리를 피하는 것도 좋은 방법이라고 생각해요.</td>\n",
       "      <td>[-0.76790583, 0.4652073, 0.5285071, -0.5076045...</td>\n",
       "    </tr>\n",
       "    <tr>\n",
       "      <th>16</th>\n",
       "      <td>감정/감정조절이상/화</td>\n",
       "      <td>예전보다 화내는 게 과격해진 거 같아.</td>\n",
       "      <td>정말 힘드시겠어요. 화는 남에게도 스스로에게도 상처를 주잖아요.</td>\n",
       "      <td>[-0.20277718, -0.37413934, 0.04053212, -0.8624...</td>\n",
       "    </tr>\n",
       "  </tbody>\n",
       "</table>\n",
       "</div>"
      ],
      "text/plain": [
       "             구분                                                 유저  \\\n",
       "0     감정/감정조절이상    제 감정이 이상해진 것 같아요. 남편만 보면 화가 치밀어 오르고 감정 조절이 안되요.   \n",
       "1     감정/감정조절이상                           더 이상 내 감정을 내가 컨트롤 못 하겠어.   \n",
       "2     감정/감정조절이상                        하루종일 오르락내리락 롤러코스터 타는 기분이에요.   \n",
       "15  감정/감정조절이상/화  평소 다른 일을 할 때도 비슷해요. 생각한대로 안되면 화가 나고…그런 상황이 지속되...   \n",
       "16  감정/감정조절이상/화                              예전보다 화내는 게 과격해진 거 같아.   \n",
       "\n",
       "                                            챗봇  \\\n",
       "0              감정이 조절이 안 될 때만큼 힘들 때는 없는 거 같아요.   \n",
       "1                       저도 그 기분 이해해요. 많이 힘드시죠?   \n",
       "2      그럴 때는 밥은 잘 먹었는지, 잠은 잘 잤는지 체크해보는 것도 좋아요.   \n",
       "15  화가 폭발할 것 같을 때는 그 자리를 피하는 것도 좋은 방법이라고 생각해요.   \n",
       "16         정말 힘드시겠어요. 화는 남에게도 스스로에게도 상처를 주잖아요.   \n",
       "\n",
       "                                             encoding  \n",
       "0   [-0.48060662, -0.29486942, 0.43790022, -0.6401...  \n",
       "1   [-1.1561574, -0.14506274, 0.2949036, -0.673949...  \n",
       "2   [-0.6652004, -0.081268355, 1.0945568, 0.105792...  \n",
       "15  [-0.76790583, 0.4652073, 0.5285071, -0.5076045...  \n",
       "16  [-0.20277718, -0.37413934, 0.04053212, -0.8624...  "
      ]
     },
     "execution_count": 33,
     "metadata": {},
     "output_type": "execute_result"
    }
   ],
   "source": [
    "df['encoding'] = pd.Series([[]] * len(df))\n",
    "\n",
    "df['encoding'] = df['유저'].map(lambda x: list(model.encode(x)))\n",
    "\n",
    "df.head()"
   ]
  },
  {
   "cell_type": "code",
   "execution_count": 34,
   "id": "d8f44bd9",
   "metadata": {},
   "outputs": [],
   "source": [
    "df.to_csv('encoding_wellness_data.csv', index=False)"
   ]
  },
  {
   "cell_type": "code",
   "execution_count": 35,
   "id": "d8134a24",
   "metadata": {},
   "outputs": [],
   "source": [
    "sentence = '외로워서 혼잣말을 해'\n",
    "\n",
    "encoding = model.encode(sentence)"
   ]
  },
  {
   "cell_type": "code",
   "execution_count": 36,
   "id": "bd68ab2c",
   "metadata": {},
   "outputs": [
    {
     "data": {
      "text/html": [
       "<div>\n",
       "<style scoped>\n",
       "    .dataframe tbody tr th:only-of-type {\n",
       "        vertical-align: middle;\n",
       "    }\n",
       "\n",
       "    .dataframe tbody tr th {\n",
       "        vertical-align: top;\n",
       "    }\n",
       "\n",
       "    .dataframe thead th {\n",
       "        text-align: right;\n",
       "    }\n",
       "</style>\n",
       "<table border=\"1\" class=\"dataframe\">\n",
       "  <thead>\n",
       "    <tr style=\"text-align: right;\">\n",
       "      <th></th>\n",
       "      <th>구분</th>\n",
       "      <th>유저</th>\n",
       "      <th>챗봇</th>\n",
       "      <th>encoding</th>\n",
       "      <th>similar</th>\n",
       "    </tr>\n",
       "  </thead>\n",
       "  <tbody>\n",
       "    <tr>\n",
       "      <th>0</th>\n",
       "      <td>감정/감정조절이상</td>\n",
       "      <td>제 감정이 이상해진 것 같아요. 남편만 보면 화가 치밀어 오르고 감정 조절이 안되요.</td>\n",
       "      <td>감정이 조절이 안 될 때만큼 힘들 때는 없는 거 같아요.</td>\n",
       "      <td>[-0.48060662, -0.29486942, 0.43790022, -0.6401...</td>\n",
       "      <td>0.399131</td>\n",
       "    </tr>\n",
       "    <tr>\n",
       "      <th>1</th>\n",
       "      <td>감정/감정조절이상</td>\n",
       "      <td>더 이상 내 감정을 내가 컨트롤 못 하겠어.</td>\n",
       "      <td>저도 그 기분 이해해요. 많이 힘드시죠?</td>\n",
       "      <td>[-1.1561574, -0.14506274, 0.2949036, -0.673949...</td>\n",
       "      <td>0.461097</td>\n",
       "    </tr>\n",
       "    <tr>\n",
       "      <th>2</th>\n",
       "      <td>감정/감정조절이상</td>\n",
       "      <td>하루종일 오르락내리락 롤러코스터 타는 기분이에요.</td>\n",
       "      <td>그럴 때는 밥은 잘 먹었는지, 잠은 잘 잤는지 체크해보는 것도 좋아요.</td>\n",
       "      <td>[-0.6652004, -0.081268355, 1.0945568, 0.105792...</td>\n",
       "      <td>0.278388</td>\n",
       "    </tr>\n",
       "    <tr>\n",
       "      <th>15</th>\n",
       "      <td>감정/감정조절이상/화</td>\n",
       "      <td>평소 다른 일을 할 때도 비슷해요. 생각한대로 안되면 화가 나고…그런 상황이 지속되...</td>\n",
       "      <td>화가 폭발할 것 같을 때는 그 자리를 피하는 것도 좋은 방법이라고 생각해요.</td>\n",
       "      <td>[-0.76790583, 0.4652073, 0.5285071, -0.5076045...</td>\n",
       "      <td>0.409393</td>\n",
       "    </tr>\n",
       "    <tr>\n",
       "      <th>16</th>\n",
       "      <td>감정/감정조절이상/화</td>\n",
       "      <td>예전보다 화내는 게 과격해진 거 같아.</td>\n",
       "      <td>정말 힘드시겠어요. 화는 남에게도 스스로에게도 상처를 주잖아요.</td>\n",
       "      <td>[-0.20277718, -0.37413934, 0.04053212, -0.8624...</td>\n",
       "      <td>0.329211</td>\n",
       "    </tr>\n",
       "  </tbody>\n",
       "</table>\n",
       "</div>"
      ],
      "text/plain": [
       "             구분                                                 유저  \\\n",
       "0     감정/감정조절이상    제 감정이 이상해진 것 같아요. 남편만 보면 화가 치밀어 오르고 감정 조절이 안되요.   \n",
       "1     감정/감정조절이상                           더 이상 내 감정을 내가 컨트롤 못 하겠어.   \n",
       "2     감정/감정조절이상                        하루종일 오르락내리락 롤러코스터 타는 기분이에요.   \n",
       "15  감정/감정조절이상/화  평소 다른 일을 할 때도 비슷해요. 생각한대로 안되면 화가 나고…그런 상황이 지속되...   \n",
       "16  감정/감정조절이상/화                              예전보다 화내는 게 과격해진 거 같아.   \n",
       "\n",
       "                                            챗봇  \\\n",
       "0              감정이 조절이 안 될 때만큼 힘들 때는 없는 거 같아요.   \n",
       "1                       저도 그 기분 이해해요. 많이 힘드시죠?   \n",
       "2      그럴 때는 밥은 잘 먹었는지, 잠은 잘 잤는지 체크해보는 것도 좋아요.   \n",
       "15  화가 폭발할 것 같을 때는 그 자리를 피하는 것도 좋은 방법이라고 생각해요.   \n",
       "16         정말 힘드시겠어요. 화는 남에게도 스스로에게도 상처를 주잖아요.   \n",
       "\n",
       "                                             encoding   similar  \n",
       "0   [-0.48060662, -0.29486942, 0.43790022, -0.6401...  0.399131  \n",
       "1   [-1.1561574, -0.14506274, 0.2949036, -0.673949...  0.461097  \n",
       "2   [-0.6652004, -0.081268355, 1.0945568, 0.105792...  0.278388  \n",
       "15  [-0.76790583, 0.4652073, 0.5285071, -0.5076045...  0.409393  \n",
       "16  [-0.20277718, -0.37413934, 0.04053212, -0.8624...  0.329211  "
      ]
     },
     "execution_count": 36,
     "metadata": {},
     "output_type": "execute_result"
    }
   ],
   "source": [
    "df['similar'] = df['encoding'].map(lambda x: cosine_similarity([encoding], [x]).squeeze())\n",
    "\n",
    "df.head()"
   ]
  },
  {
   "cell_type": "code",
   "execution_count": 38,
   "id": "ebab52d8",
   "metadata": {},
   "outputs": [
    {
     "name": "stdout",
     "output_type": "stream",
     "text": [
      "구분 : 감정/외로움\n",
      "질문 : 너무 외로워요.\n",
      "답변 : 저는 너무 외로울 때면 말랑한 무언가를 만지고는 해요. 단순한 행동에 집중하면 기분이 약간은 나아질 거예요.\n",
      "유사도 : 0.7617959976196289\n"
     ]
    }
   ],
   "source": [
    "# inxmax() : 최대값을 가지는 인덱스 레이블 출력\n",
    "answer = df.loc[df['similar'].idxmax()]\n",
    "\n",
    "print('구분 :', answer['구분'])\n",
    "print('질문 :', answer['유저'])\n",
    "print('답변 :', answer['챗봇'])\n",
    "print('유사도 :', answer['similar'])"
   ]
  },
  {
   "cell_type": "code",
   "execution_count": null,
   "id": "79826527",
   "metadata": {},
   "outputs": [],
   "source": []
  }
 ],
 "metadata": {
  "kernelspec": {
   "display_name": "Python 3 (ipykernel)",
   "language": "python",
   "name": "python3"
  },
  "language_info": {
   "codemirror_mode": {
    "name": "ipython",
    "version": 3
   },
   "file_extension": ".py",
   "mimetype": "text/x-python",
   "name": "python",
   "nbconvert_exporter": "python",
   "pygments_lexer": "ipython3",
   "version": "3.9.16"
  }
 },
 "nbformat": 4,
 "nbformat_minor": 5
}
